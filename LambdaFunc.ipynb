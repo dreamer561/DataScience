{
  "nbformat": 4,
  "nbformat_minor": 0,
  "metadata": {
    "colab": {
      "name": "LambdaFunc.ipynb",
      "provenance": [],
      "collapsed_sections": [],
      "authorship_tag": "ABX9TyNZdR35GVGGtjDRZKR+8kzs",
      "include_colab_link": true
    },
    "kernelspec": {
      "name": "python3",
      "display_name": "Python 3"
    },
    "language_info": {
      "name": "python"
    }
  },
  "cells": [
    {
      "cell_type": "markdown",
      "metadata": {
        "id": "view-in-github",
        "colab_type": "text"
      },
      "source": [
        "<a href=\"https://colab.research.google.com/github/dreamer561/DataScience/blob/main/LambdaFunc.ipynb\" target=\"_parent\"><img src=\"https://colab.research.google.com/assets/colab-badge.svg\" alt=\"Open In Colab\"/></a>"
      ]
    },
    {
      "cell_type": "code",
      "execution_count": null,
      "metadata": {
        "colab": {
          "base_uri": "https://localhost:8080/"
        },
        "id": "W7PpXztHNPxs",
        "outputId": "2c8c34cd-1771-4d77-8b0b-e90abdf7ce4b"
      },
      "outputs": [
        {
          "output_type": "execute_result",
          "data": {
            "text/plain": [
              "156"
            ]
          },
          "metadata": {},
          "execution_count": 9
        }
      ],
      "source": [
        "#normal function\n",
        "def a_name(x):\n",
        "  \n",
        "  return x+x\n",
        "a_name(78)"
      ]
    },
    {
      "cell_type": "code",
      "source": [
        "a=lambda x:x+x\n",
        "print(a)"
      ],
      "metadata": {
        "colab": {
          "base_uri": "https://localhost:8080/"
        },
        "id": "ArBOWvnoN-Aw",
        "outputId": "a73adab5-09c2-485c-94c3-cfad44c44f5f"
      },
      "execution_count": null,
      "outputs": [
        {
          "output_type": "stream",
          "name": "stdout",
          "text": [
            "<function <lambda> at 0x7fd8fd268560>\n"
          ]
        }
      ]
    },
    {
      "cell_type": "code",
      "source": [
        "list_1=[1,2,3,4,5,6,7,8,9]\n",
        "filter(lambda x:x%2==0, list_1)"
      ],
      "metadata": {
        "colab": {
          "base_uri": "https://localhost:8080/"
        },
        "id": "jWXDvvPaOYwP",
        "outputId": "5c7596f4-5d7d-49bf-a8a9-1bb8567dd027"
      },
      "execution_count": null,
      "outputs": [
        {
          "output_type": "execute_result",
          "data": {
            "text/plain": [
              "<filter at 0x7fd8fd257590>"
            ]
          },
          "metadata": {},
          "execution_count": 11
        }
      ]
    },
    {
      "cell_type": "code",
      "source": [
        "\n",
        "list(filter(lambda x:x%2==0,list_1))"
      ],
      "metadata": {
        "colab": {
          "base_uri": "https://localhost:8080/"
        },
        "id": "Py_zBFfjOzOY",
        "outputId": "e5afe1eb-986e-4877-a1c7-164125e08655"
      },
      "execution_count": null,
      "outputs": [
        {
          "output_type": "execute_result",
          "data": {
            "text/plain": [
              "[2, 4, 6, 8]"
            ]
          },
          "metadata": {},
          "execution_count": 12
        }
      ]
    },
    {
      "cell_type": "code",
      "source": [
        "list_2=[12,3,4,5,6,67,7,8,8]\n",
        "cubed=map(lambda x:pow(x,3),list_2)\n",
        "list(cubed)"
      ],
      "metadata": {
        "colab": {
          "base_uri": "https://localhost:8080/"
        },
        "id": "nciDGwlmPG4C",
        "outputId": "c890c36a-5e3d-4bb8-f7a4-3b390292f150"
      },
      "execution_count": null,
      "outputs": [
        {
          "output_type": "execute_result",
          "data": {
            "text/plain": [
              "[1728, 27, 64, 125, 216, 300763, 343, 512, 512]"
            ]
          },
          "metadata": {},
          "execution_count": 13
        }
      ]
    },
    {
      "cell_type": "code",
      "source": [
        "double=lambda num:num*2\n",
        "print(double(10))"
      ],
      "metadata": {
        "colab": {
          "base_uri": "https://localhost:8080/"
        },
        "id": "BGZRc1-APgVt",
        "outputId": "f7689f90-7d63-4008-b208-d785267d5a06"
      },
      "execution_count": null,
      "outputs": [
        {
          "output_type": "stream",
          "name": "stdout",
          "text": [
            "20\n"
          ]
        }
      ]
    },
    {
      "cell_type": "code",
      "source": [
        "list_3=[1,5,4,6,8,11,3,12]\n",
        "list_3n=list(filter(lambda x:(x%2==0),list_3))\n",
        "print(list_3n)"
      ],
      "metadata": {
        "colab": {
          "base_uri": "https://localhost:8080/"
        },
        "id": "wRb194X9P3yi",
        "outputId": "653a35ce-6331-4011-f26a-ddfce3e576a8"
      },
      "execution_count": null,
      "outputs": [
        {
          "output_type": "stream",
          "name": "stdout",
          "text": [
            "[4, 6, 8, 12]\n"
          ]
        }
      ]
    },
    {
      "cell_type": "code",
      "source": [
        "#using map\n",
        "list_4=[1,5,4,8,11,3,12]\n",
        "list_4n=list(map(lambda x:x*2,list_4))\n",
        "print(list_4n)\n"
      ],
      "metadata": {
        "colab": {
          "base_uri": "https://localhost:8080/"
        },
        "id": "p-Be107MRNsK",
        "outputId": "5e9d8338-c741-4ef4-91b7-0caf22543893"
      },
      "execution_count": null,
      "outputs": [
        {
          "output_type": "stream",
          "name": "stdout",
          "text": [
            "[2, 10, 8, 16, 22, 6, 24]\n"
          ]
        }
      ]
    },
    {
      "cell_type": "code",
      "source": [
        "#prime no\n",
        "num=int(input('Enter a number to check prime or not'))\n",
        "count=1\n",
        "if num<0 or num==0:\n",
        "  print('Enter correct digit')\n",
        "  # break\n",
        "for i in range(1,num+1):\n",
        "  if num%i==0:\n",
        "    count+=1\n",
        "if count==2 :\n",
        "    print('Given number is Prime')\n",
        "else:\n",
        "    print('Given number is not Prime')"
      ],
      "metadata": {
        "id": "fSZD_XZ8SS1g",
        "colab": {
          "base_uri": "https://localhost:8080/"
        },
        "outputId": "4c058d40-42f0-4e65-ba63-d7fc0ce6dfbf"
      },
      "execution_count": null,
      "outputs": [
        {
          "output_type": "stream",
          "name": "stdout",
          "text": [
            "Enter a number to check prime or not67\n",
            "Given number is not Prime\n"
          ]
        }
      ]
    },
    {
      "cell_type": "code",
      "source": [
        "ser=lambda sew:sew*2"
      ],
      "metadata": {
        "id": "GtG8-7HxOSRx"
      },
      "execution_count": null,
      "outputs": []
    },
    {
      "cell_type": "code",
      "source": [
        "print (ser(12))"
      ],
      "metadata": {
        "id": "s0xcNCN2PZkT"
      },
      "execution_count": null,
      "outputs": []
    },
    {
      "cell_type": "code",
      "source": [
        "\n",
        "def add(num1,num2):\n",
        "  num1=num1()\n",
        "  num2=num2()\n",
        "  return num1+num2\n",
        "\n",
        "def num1():\n",
        "  n=int(input('num1'))\n",
        "  return n\n",
        "def num2():\n",
        "  n=int(input('num2'))\n",
        "  return n\n",
        "\n",
        "add(num1,num2)"
      ],
      "metadata": {
        "id": "XF5SvnlhPe3M"
      },
      "execution_count": null,
      "outputs": []
    },
    {
      "cell_type": "code",
      "source": [
        "add=lambda num1,num2,num3:num1+num2+num3\n",
        "print(add(44,45,45))"
      ],
      "metadata": {
        "colab": {
          "base_uri": "https://localhost:8080/"
        },
        "id": "C6Ztlr6kvSQB",
        "outputId": "2e95aa0a-5cd5-4a97-cf73-ecbc70b85197"
      },
      "execution_count": null,
      "outputs": [
        {
          "output_type": "stream",
          "name": "stdout",
          "text": [
            "134\n"
          ]
        }
      ]
    },
    {
      "cell_type": "code",
      "source": [
        "def sq(a):\n",
        "  return a*a\n",
        "list1=[2,3,4,5,6,7,8,9]\n",
        "square=list(map(sq,list1))\n",
        "print(square)"
      ],
      "metadata": {
        "colab": {
          "base_uri": "https://localhost:8080/"
        },
        "id": "zs42Mj_gvjiZ",
        "outputId": "aa673907-2d18-4eb4-b985-af0028c5fd58"
      },
      "execution_count": null,
      "outputs": [
        {
          "output_type": "stream",
          "name": "stdout",
          "text": [
            "[4, 9, 16, 25, 36, 49, 64, 81]\n"
          ]
        }
      ]
    },
    {
      "cell_type": "code",
      "source": [
        "list2=[1,2,3,4,5,6,7,8,9,9,0]\n",
        "square=(set(map(lambda x:x*x , list2)))\n",
        "print(square)"
      ],
      "metadata": {
        "colab": {
          "base_uri": "https://localhost:8080/"
        },
        "id": "d2BRy5CM1oHn",
        "outputId": "fc2a4bf7-4c09-413b-f58f-953fedbc34ed"
      },
      "execution_count": null,
      "outputs": [
        {
          "output_type": "stream",
          "name": "stdout",
          "text": [
            "{64, 1, 0, 4, 36, 9, 16, 49, 81, 25}\n"
          ]
        }
      ]
    },
    {
      "cell_type": "code",
      "source": [],
      "metadata": {
        "id": "Opzcuc5S5K66"
      },
      "execution_count": null,
      "outputs": []
    }
  ]
}